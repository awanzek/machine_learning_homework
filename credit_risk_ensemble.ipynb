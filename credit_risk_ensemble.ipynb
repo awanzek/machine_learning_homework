{
 "cells": [
  {
   "cell_type": "code",
   "execution_count": 1,
   "metadata": {},
   "outputs": [],
   "source": [
    "import warnings\n",
    "warnings.filterwarnings('ignore')"
   ]
  },
  {
   "cell_type": "code",
   "execution_count": 2,
   "metadata": {},
   "outputs": [],
   "source": [
    "import numpy as np\n",
    "import pandas as pd\n",
    "from pathlib import Path\n",
    "from collections import Counter"
   ]
  },
  {
   "cell_type": "code",
   "execution_count": 3,
   "metadata": {},
   "outputs": [],
   "source": [
    "from sklearn.metrics import balanced_accuracy_score\n",
    "from sklearn.metrics import confusion_matrix\n",
    "from imblearn.metrics import classification_report_imbalanced"
   ]
  },
  {
   "cell_type": "markdown",
   "metadata": {},
   "source": [
    "# Read the CSV and Perform Basic Data Cleaning"
   ]
  },
  {
   "cell_type": "code",
   "execution_count": 4,
   "metadata": {},
   "outputs": [],
   "source": [
    "# https://help.lendingclub.com/hc/en-us/articles/215488038-What-do-the-different-Note-statuses-mean-\n",
    "\n",
    "columns = [\n",
    "    \"loan_amnt\", \"int_rate\", \"installment\", \"home_ownership\",\n",
    "    \"annual_inc\", \"verification_status\", \"issue_d\", \"loan_status\",\n",
    "    \"pymnt_plan\", \"dti\", \"delinq_2yrs\", \"inq_last_6mths\",\n",
    "    \"open_acc\", \"pub_rec\", \"revol_bal\", \"total_acc\",\n",
    "    \"initial_list_status\", \"out_prncp\", \"out_prncp_inv\", \"total_pymnt\",\n",
    "    \"total_pymnt_inv\", \"total_rec_prncp\", \"total_rec_int\", \"total_rec_late_fee\",\n",
    "    \"recoveries\", \"collection_recovery_fee\", \"last_pymnt_amnt\", \"next_pymnt_d\",\n",
    "    \"collections_12_mths_ex_med\", \"policy_code\", \"application_type\", \"acc_now_delinq\",\n",
    "    \"tot_coll_amt\", \"tot_cur_bal\", \"open_acc_6m\", \"open_act_il\",\n",
    "    \"open_il_12m\", \"open_il_24m\", \"mths_since_rcnt_il\", \"total_bal_il\",\n",
    "    \"il_util\", \"open_rv_12m\", \"open_rv_24m\", \"max_bal_bc\",\n",
    "    \"all_util\", \"total_rev_hi_lim\", \"inq_fi\", \"total_cu_tl\",\n",
    "    \"inq_last_12m\", \"acc_open_past_24mths\", \"avg_cur_bal\", \"bc_open_to_buy\",\n",
    "    \"bc_util\", \"chargeoff_within_12_mths\", \"delinq_amnt\", \"mo_sin_old_il_acct\",\n",
    "    \"mo_sin_old_rev_tl_op\", \"mo_sin_rcnt_rev_tl_op\", \"mo_sin_rcnt_tl\", \"mort_acc\",\n",
    "    \"mths_since_recent_bc\", \"mths_since_recent_inq\", \"num_accts_ever_120_pd\", \"num_actv_bc_tl\",\n",
    "    \"num_actv_rev_tl\", \"num_bc_sats\", \"num_bc_tl\", \"num_il_tl\",\n",
    "    \"num_op_rev_tl\", \"num_rev_accts\", \"num_rev_tl_bal_gt_0\",\n",
    "    \"num_sats\", \"num_tl_120dpd_2m\", \"num_tl_30dpd\", \"num_tl_90g_dpd_24m\",\n",
    "    \"num_tl_op_past_12m\", \"pct_tl_nvr_dlq\", \"percent_bc_gt_75\", \"pub_rec_bankruptcies\",\n",
    "    \"tax_liens\", \"tot_hi_cred_lim\", \"total_bal_ex_mort\", \"total_bc_limit\",\n",
    "    \"total_il_high_credit_limit\", \"hardship_flag\", \"debt_settlement_flag\"\n",
    "]\n",
    "\n",
    "target = [\"loan_status\"]"
   ]
  },
  {
   "cell_type": "code",
   "execution_count": 5,
   "metadata": {},
   "outputs": [
    {
     "output_type": "execute_result",
     "data": {
      "text/plain": "   loan_amnt  int_rate  installment home_ownership  annual_inc  \\\n0    10500.0    0.1719       375.35           RENT     66000.0   \n1    25000.0    0.2000       929.09       MORTGAGE    105000.0   \n2    20000.0    0.2000       529.88       MORTGAGE     56000.0   \n3    10000.0    0.1640       353.55           RENT     92000.0   \n4    22000.0    0.1474       520.39       MORTGAGE     52000.0   \n\n  verification_status   issue_d loan_status pymnt_plan    dti  ...  \\\n0     Source Verified  Mar-2019    low_risk          n  27.24  ...   \n1            Verified  Mar-2019    low_risk          n  20.23  ...   \n2            Verified  Mar-2019    low_risk          n  24.26  ...   \n3            Verified  Mar-2019    low_risk          n  31.44  ...   \n4        Not Verified  Mar-2019    low_risk          n  18.76  ...   \n\n   pct_tl_nvr_dlq  percent_bc_gt_75  pub_rec_bankruptcies  tax_liens  \\\n0            85.7             100.0                   0.0        0.0   \n1            91.2              50.0                   1.0        0.0   \n2            66.7              50.0                   0.0        0.0   \n3           100.0              50.0                   1.0        0.0   \n4           100.0               0.0                   0.0        0.0   \n\n   tot_hi_cred_lim  total_bal_ex_mort total_bc_limit  \\\n0          65687.0            38199.0         2000.0   \n1         271427.0            60641.0        41200.0   \n2          60644.0            45684.0         7500.0   \n3          99506.0            68784.0        19700.0   \n4         219750.0            25919.0        27600.0   \n\n   total_il_high_credit_limit  hardship_flag  debt_settlement_flag  \n0                     61987.0              N                     N  \n1                     49197.0              N                     N  \n2                     43144.0              N                     N  \n3                     76506.0              N                     N  \n4                     20000.0              N                     N  \n\n[5 rows x 86 columns]",
      "text/html": "<div>\n<style scoped>\n    .dataframe tbody tr th:only-of-type {\n        vertical-align: middle;\n    }\n\n    .dataframe tbody tr th {\n        vertical-align: top;\n    }\n\n    .dataframe thead th {\n        text-align: right;\n    }\n</style>\n<table border=\"1\" class=\"dataframe\">\n  <thead>\n    <tr style=\"text-align: right;\">\n      <th></th>\n      <th>loan_amnt</th>\n      <th>int_rate</th>\n      <th>installment</th>\n      <th>home_ownership</th>\n      <th>annual_inc</th>\n      <th>verification_status</th>\n      <th>issue_d</th>\n      <th>loan_status</th>\n      <th>pymnt_plan</th>\n      <th>dti</th>\n      <th>...</th>\n      <th>pct_tl_nvr_dlq</th>\n      <th>percent_bc_gt_75</th>\n      <th>pub_rec_bankruptcies</th>\n      <th>tax_liens</th>\n      <th>tot_hi_cred_lim</th>\n      <th>total_bal_ex_mort</th>\n      <th>total_bc_limit</th>\n      <th>total_il_high_credit_limit</th>\n      <th>hardship_flag</th>\n      <th>debt_settlement_flag</th>\n    </tr>\n  </thead>\n  <tbody>\n    <tr>\n      <td>0</td>\n      <td>10500.0</td>\n      <td>0.1719</td>\n      <td>375.35</td>\n      <td>RENT</td>\n      <td>66000.0</td>\n      <td>Source Verified</td>\n      <td>Mar-2019</td>\n      <td>low_risk</td>\n      <td>n</td>\n      <td>27.24</td>\n      <td>...</td>\n      <td>85.7</td>\n      <td>100.0</td>\n      <td>0.0</td>\n      <td>0.0</td>\n      <td>65687.0</td>\n      <td>38199.0</td>\n      <td>2000.0</td>\n      <td>61987.0</td>\n      <td>N</td>\n      <td>N</td>\n    </tr>\n    <tr>\n      <td>1</td>\n      <td>25000.0</td>\n      <td>0.2000</td>\n      <td>929.09</td>\n      <td>MORTGAGE</td>\n      <td>105000.0</td>\n      <td>Verified</td>\n      <td>Mar-2019</td>\n      <td>low_risk</td>\n      <td>n</td>\n      <td>20.23</td>\n      <td>...</td>\n      <td>91.2</td>\n      <td>50.0</td>\n      <td>1.0</td>\n      <td>0.0</td>\n      <td>271427.0</td>\n      <td>60641.0</td>\n      <td>41200.0</td>\n      <td>49197.0</td>\n      <td>N</td>\n      <td>N</td>\n    </tr>\n    <tr>\n      <td>2</td>\n      <td>20000.0</td>\n      <td>0.2000</td>\n      <td>529.88</td>\n      <td>MORTGAGE</td>\n      <td>56000.0</td>\n      <td>Verified</td>\n      <td>Mar-2019</td>\n      <td>low_risk</td>\n      <td>n</td>\n      <td>24.26</td>\n      <td>...</td>\n      <td>66.7</td>\n      <td>50.0</td>\n      <td>0.0</td>\n      <td>0.0</td>\n      <td>60644.0</td>\n      <td>45684.0</td>\n      <td>7500.0</td>\n      <td>43144.0</td>\n      <td>N</td>\n      <td>N</td>\n    </tr>\n    <tr>\n      <td>3</td>\n      <td>10000.0</td>\n      <td>0.1640</td>\n      <td>353.55</td>\n      <td>RENT</td>\n      <td>92000.0</td>\n      <td>Verified</td>\n      <td>Mar-2019</td>\n      <td>low_risk</td>\n      <td>n</td>\n      <td>31.44</td>\n      <td>...</td>\n      <td>100.0</td>\n      <td>50.0</td>\n      <td>1.0</td>\n      <td>0.0</td>\n      <td>99506.0</td>\n      <td>68784.0</td>\n      <td>19700.0</td>\n      <td>76506.0</td>\n      <td>N</td>\n      <td>N</td>\n    </tr>\n    <tr>\n      <td>4</td>\n      <td>22000.0</td>\n      <td>0.1474</td>\n      <td>520.39</td>\n      <td>MORTGAGE</td>\n      <td>52000.0</td>\n      <td>Not Verified</td>\n      <td>Mar-2019</td>\n      <td>low_risk</td>\n      <td>n</td>\n      <td>18.76</td>\n      <td>...</td>\n      <td>100.0</td>\n      <td>0.0</td>\n      <td>0.0</td>\n      <td>0.0</td>\n      <td>219750.0</td>\n      <td>25919.0</td>\n      <td>27600.0</td>\n      <td>20000.0</td>\n      <td>N</td>\n      <td>N</td>\n    </tr>\n  </tbody>\n</table>\n<p>5 rows × 86 columns</p>\n</div>"
     },
     "metadata": {},
     "execution_count": 5
    }
   ],
   "source": [
    "# Load the data\n",
    "file_path = Path('./Resources/LoanStats_2019Q1.csv.zip')\n",
    "df = pd.read_csv(file_path, skiprows=1)[:-2]\n",
    "df = df.loc[:, columns].copy()\n",
    "\n",
    "# Drop the null columns where all values are null\n",
    "df = df.dropna(axis='columns', how='all')\n",
    "\n",
    "# Drop the null rows\n",
    "df = df.dropna()\n",
    "\n",
    "# Remove the `Issued` loan status\n",
    "issued_mask = df['loan_status'] != 'Issued'\n",
    "df = df.loc[issued_mask]\n",
    "\n",
    "# convert interest rate to numerical\n",
    "df['int_rate'] = df['int_rate'].str.replace('%', '')\n",
    "df['int_rate'] = df['int_rate'].astype('float') / 100\n",
    "\n",
    "\n",
    "# Convert the target column values to low_risk and high_risk based on their values\n",
    "x = {'Current': 'low_risk'}   \n",
    "df = df.replace(x)\n",
    "\n",
    "x = dict.fromkeys(['Late (31-120 days)', 'Late (16-30 days)', 'Default', 'In Grace Period'], 'high_risk')    \n",
    "df = df.replace(x)\n",
    "\n",
    "df.reset_index(inplace=True, drop=True)\n",
    "\n",
    "df.head()"
   ]
  },
  {
   "cell_type": "code",
   "execution_count": 6,
   "metadata": {},
   "outputs": [
    {
     "output_type": "stream",
     "name": "stdout",
     "text": "['home_ownership', 'verification_status', 'issue_d', 'loan_status', 'pymnt_plan', 'initial_list_status', 'next_pymnt_d', 'application_type', 'hardship_flag', 'debt_settlement_flag']\n"
    }
   ],
   "source": [
    "#figure out what column names are not integers or floats to be used in data modeling\n",
    "# the strings will need to be labeled or encoded or binary encoded\n",
    "object_columns=[]\n",
    "for column in df:\n",
    " if df[column].dtypes=='object':\n",
    "    object_columns.append(column)\n",
    "print(object_columns)"
   ]
  },
  {
   "cell_type": "code",
   "execution_count": 7,
   "metadata": {},
   "outputs": [
    {
     "output_type": "stream",
     "name": "stdout",
     "text": "['RENT' 'MORTGAGE' 'OWN' 'ANY']\n['Source Verified' 'Verified' 'Not Verified']\n['Mar-2019' 'Feb-2019' 'Jan-2019']\n['low_risk' 'high_risk']\n['n']\n['w' 'f']\n['May-2019' 'Apr-2019']\n['Individual' 'Joint App']\n['N']\n['N']\n"
    }
   ],
   "source": [
    "# find the number of unique values in each column above\n",
    "for column in object_columns:\n",
    "    print(df[column].unique())"
   ]
  },
  {
   "cell_type": "code",
   "execution_count": 8,
   "metadata": {},
   "outputs": [
    {
     "output_type": "stream",
     "name": "stdout",
     "text": "{'home_ownership': 4, 'verification_status': 3, 'issue_d': 3, 'loan_status': 2, 'pymnt_plan': 1, 'initial_list_status': 2, 'next_pymnt_d': 2, 'application_type': 2, 'hardship_flag': 1, 'debt_settlement_flag': 1}\nIf item has more than 2 unique values it must be label encoded. If item has 2 or less unique values it can be binary encoded.\n"
    }
   ],
   "source": [
    "# count them\n",
    "count_dict={}\n",
    "for column in object_columns:\n",
    "    unique_items=df[column].unique()\n",
    "    count=len(unique_items)\n",
    "    count_dict.update({column:count})\n",
    "print(count_dict)\n",
    "print(\"If item has more than 2 unique values it must be label encoded. If item has 2 or less unique values it can be binary encoded.\")"
   ]
  },
  {
   "cell_type": "code",
   "execution_count": 9,
   "metadata": {},
   "outputs": [],
   "source": [
    "# Months dictionary\n",
    "# make this dictionary to replace labels of months in 2019 with number of the month\n",
    "#this will be used for column names above that that are dates \n",
    "#'issue_d' and 'next_pymnt_d' --> there is only a few unique values in each one, but because there is 12 months in year\n",
    "#making the assumptino that they need to be labled 1-12 \n",
    "month_num={\n",
    "    \"Jan-2019\":1,\n",
    "    \"Feb-2019\":2,\n",
    "    \"Mar-2019\":3,\n",
    "    \"Apr-2019\":4,\n",
    "    \"May-2019\":5,\n",
    "    \"Jun-2019\":6,\n",
    "    \"Jul-2019\":7,\n",
    "    \"Aug-2019\":8,\n",
    "    \"Sep-2019\":9,\n",
    "    \"Oct-2019\":10,\n",
    "    \"Nov-2019\":11,\n",
    "    \"Dec-2019\":12\n",
    "}"
   ]
  },
  {
   "cell_type": "code",
   "execution_count": 10,
   "metadata": {},
   "outputs": [
    {
     "output_type": "execute_result",
     "data": {
      "text/plain": "   loan_amnt  int_rate  installment home_ownership  annual_inc  \\\n0    10500.0    0.1719       375.35           RENT     66000.0   \n1    25000.0    0.2000       929.09       MORTGAGE    105000.0   \n2    20000.0    0.2000       529.88       MORTGAGE     56000.0   \n3    10000.0    0.1640       353.55           RENT     92000.0   \n4    22000.0    0.1474       520.39       MORTGAGE     52000.0   \n\n  verification_status  issue_d loan_status pymnt_plan    dti  ...  \\\n0     Source Verified        3    low_risk          n  27.24  ...   \n1            Verified        3    low_risk          n  20.23  ...   \n2            Verified        3    low_risk          n  24.26  ...   \n3            Verified        3    low_risk          n  31.44  ...   \n4        Not Verified        3    low_risk          n  18.76  ...   \n\n   pct_tl_nvr_dlq  percent_bc_gt_75  pub_rec_bankruptcies  tax_liens  \\\n0            85.7             100.0                   0.0        0.0   \n1            91.2              50.0                   1.0        0.0   \n2            66.7              50.0                   0.0        0.0   \n3           100.0              50.0                   1.0        0.0   \n4           100.0               0.0                   0.0        0.0   \n\n   tot_hi_cred_lim  total_bal_ex_mort total_bc_limit  \\\n0          65687.0            38199.0         2000.0   \n1         271427.0            60641.0        41200.0   \n2          60644.0            45684.0         7500.0   \n3          99506.0            68784.0        19700.0   \n4         219750.0            25919.0        27600.0   \n\n   total_il_high_credit_limit  hardship_flag  debt_settlement_flag  \n0                     61987.0              N                     N  \n1                     49197.0              N                     N  \n2                     43144.0              N                     N  \n3                     76506.0              N                     N  \n4                     20000.0              N                     N  \n\n[5 rows x 86 columns]",
      "text/html": "<div>\n<style scoped>\n    .dataframe tbody tr th:only-of-type {\n        vertical-align: middle;\n    }\n\n    .dataframe tbody tr th {\n        vertical-align: top;\n    }\n\n    .dataframe thead th {\n        text-align: right;\n    }\n</style>\n<table border=\"1\" class=\"dataframe\">\n  <thead>\n    <tr style=\"text-align: right;\">\n      <th></th>\n      <th>loan_amnt</th>\n      <th>int_rate</th>\n      <th>installment</th>\n      <th>home_ownership</th>\n      <th>annual_inc</th>\n      <th>verification_status</th>\n      <th>issue_d</th>\n      <th>loan_status</th>\n      <th>pymnt_plan</th>\n      <th>dti</th>\n      <th>...</th>\n      <th>pct_tl_nvr_dlq</th>\n      <th>percent_bc_gt_75</th>\n      <th>pub_rec_bankruptcies</th>\n      <th>tax_liens</th>\n      <th>tot_hi_cred_lim</th>\n      <th>total_bal_ex_mort</th>\n      <th>total_bc_limit</th>\n      <th>total_il_high_credit_limit</th>\n      <th>hardship_flag</th>\n      <th>debt_settlement_flag</th>\n    </tr>\n  </thead>\n  <tbody>\n    <tr>\n      <td>0</td>\n      <td>10500.0</td>\n      <td>0.1719</td>\n      <td>375.35</td>\n      <td>RENT</td>\n      <td>66000.0</td>\n      <td>Source Verified</td>\n      <td>3</td>\n      <td>low_risk</td>\n      <td>n</td>\n      <td>27.24</td>\n      <td>...</td>\n      <td>85.7</td>\n      <td>100.0</td>\n      <td>0.0</td>\n      <td>0.0</td>\n      <td>65687.0</td>\n      <td>38199.0</td>\n      <td>2000.0</td>\n      <td>61987.0</td>\n      <td>N</td>\n      <td>N</td>\n    </tr>\n    <tr>\n      <td>1</td>\n      <td>25000.0</td>\n      <td>0.2000</td>\n      <td>929.09</td>\n      <td>MORTGAGE</td>\n      <td>105000.0</td>\n      <td>Verified</td>\n      <td>3</td>\n      <td>low_risk</td>\n      <td>n</td>\n      <td>20.23</td>\n      <td>...</td>\n      <td>91.2</td>\n      <td>50.0</td>\n      <td>1.0</td>\n      <td>0.0</td>\n      <td>271427.0</td>\n      <td>60641.0</td>\n      <td>41200.0</td>\n      <td>49197.0</td>\n      <td>N</td>\n      <td>N</td>\n    </tr>\n    <tr>\n      <td>2</td>\n      <td>20000.0</td>\n      <td>0.2000</td>\n      <td>529.88</td>\n      <td>MORTGAGE</td>\n      <td>56000.0</td>\n      <td>Verified</td>\n      <td>3</td>\n      <td>low_risk</td>\n      <td>n</td>\n      <td>24.26</td>\n      <td>...</td>\n      <td>66.7</td>\n      <td>50.0</td>\n      <td>0.0</td>\n      <td>0.0</td>\n      <td>60644.0</td>\n      <td>45684.0</td>\n      <td>7500.0</td>\n      <td>43144.0</td>\n      <td>N</td>\n      <td>N</td>\n    </tr>\n    <tr>\n      <td>3</td>\n      <td>10000.0</td>\n      <td>0.1640</td>\n      <td>353.55</td>\n      <td>RENT</td>\n      <td>92000.0</td>\n      <td>Verified</td>\n      <td>3</td>\n      <td>low_risk</td>\n      <td>n</td>\n      <td>31.44</td>\n      <td>...</td>\n      <td>100.0</td>\n      <td>50.0</td>\n      <td>1.0</td>\n      <td>0.0</td>\n      <td>99506.0</td>\n      <td>68784.0</td>\n      <td>19700.0</td>\n      <td>76506.0</td>\n      <td>N</td>\n      <td>N</td>\n    </tr>\n    <tr>\n      <td>4</td>\n      <td>22000.0</td>\n      <td>0.1474</td>\n      <td>520.39</td>\n      <td>MORTGAGE</td>\n      <td>52000.0</td>\n      <td>Not Verified</td>\n      <td>3</td>\n      <td>low_risk</td>\n      <td>n</td>\n      <td>18.76</td>\n      <td>...</td>\n      <td>100.0</td>\n      <td>0.0</td>\n      <td>0.0</td>\n      <td>0.0</td>\n      <td>219750.0</td>\n      <td>25919.0</td>\n      <td>27600.0</td>\n      <td>20000.0</td>\n      <td>N</td>\n      <td>N</td>\n    </tr>\n  </tbody>\n</table>\n<p>5 rows × 86 columns</p>\n</div>"
     },
     "metadata": {},
     "execution_count": 10
    }
   ],
   "source": [
    "# Encode month name \n",
    "df[\"issue_d\"] = df[\"issue_d\"].apply(lambda x: month_num[x])\n",
    "df.head()"
   ]
  },
  {
   "cell_type": "code",
   "execution_count": 11,
   "metadata": {},
   "outputs": [
    {
     "output_type": "execute_result",
     "data": {
      "text/plain": "   loan_amnt  int_rate  installment home_ownership  annual_inc  \\\n0    10500.0    0.1719       375.35           RENT     66000.0   \n1    25000.0    0.2000       929.09       MORTGAGE    105000.0   \n2    20000.0    0.2000       529.88       MORTGAGE     56000.0   \n3    10000.0    0.1640       353.55           RENT     92000.0   \n4    22000.0    0.1474       520.39       MORTGAGE     52000.0   \n\n  verification_status  issue_d loan_status pymnt_plan    dti  ...  \\\n0     Source Verified        3    low_risk          n  27.24  ...   \n1            Verified        3    low_risk          n  20.23  ...   \n2            Verified        3    low_risk          n  24.26  ...   \n3            Verified        3    low_risk          n  31.44  ...   \n4        Not Verified        3    low_risk          n  18.76  ...   \n\n   pct_tl_nvr_dlq  percent_bc_gt_75  pub_rec_bankruptcies  tax_liens  \\\n0            85.7             100.0                   0.0        0.0   \n1            91.2              50.0                   1.0        0.0   \n2            66.7              50.0                   0.0        0.0   \n3           100.0              50.0                   1.0        0.0   \n4           100.0               0.0                   0.0        0.0   \n\n   tot_hi_cred_lim  total_bal_ex_mort total_bc_limit  \\\n0          65687.0            38199.0         2000.0   \n1         271427.0            60641.0        41200.0   \n2          60644.0            45684.0         7500.0   \n3          99506.0            68784.0        19700.0   \n4         219750.0            25919.0        27600.0   \n\n   total_il_high_credit_limit  hardship_flag  debt_settlement_flag  \n0                     61987.0              N                     N  \n1                     49197.0              N                     N  \n2                     43144.0              N                     N  \n3                     76506.0              N                     N  \n4                     20000.0              N                     N  \n\n[5 rows x 86 columns]",
      "text/html": "<div>\n<style scoped>\n    .dataframe tbody tr th:only-of-type {\n        vertical-align: middle;\n    }\n\n    .dataframe tbody tr th {\n        vertical-align: top;\n    }\n\n    .dataframe thead th {\n        text-align: right;\n    }\n</style>\n<table border=\"1\" class=\"dataframe\">\n  <thead>\n    <tr style=\"text-align: right;\">\n      <th></th>\n      <th>loan_amnt</th>\n      <th>int_rate</th>\n      <th>installment</th>\n      <th>home_ownership</th>\n      <th>annual_inc</th>\n      <th>verification_status</th>\n      <th>issue_d</th>\n      <th>loan_status</th>\n      <th>pymnt_plan</th>\n      <th>dti</th>\n      <th>...</th>\n      <th>pct_tl_nvr_dlq</th>\n      <th>percent_bc_gt_75</th>\n      <th>pub_rec_bankruptcies</th>\n      <th>tax_liens</th>\n      <th>tot_hi_cred_lim</th>\n      <th>total_bal_ex_mort</th>\n      <th>total_bc_limit</th>\n      <th>total_il_high_credit_limit</th>\n      <th>hardship_flag</th>\n      <th>debt_settlement_flag</th>\n    </tr>\n  </thead>\n  <tbody>\n    <tr>\n      <td>0</td>\n      <td>10500.0</td>\n      <td>0.1719</td>\n      <td>375.35</td>\n      <td>RENT</td>\n      <td>66000.0</td>\n      <td>Source Verified</td>\n      <td>3</td>\n      <td>low_risk</td>\n      <td>n</td>\n      <td>27.24</td>\n      <td>...</td>\n      <td>85.7</td>\n      <td>100.0</td>\n      <td>0.0</td>\n      <td>0.0</td>\n      <td>65687.0</td>\n      <td>38199.0</td>\n      <td>2000.0</td>\n      <td>61987.0</td>\n      <td>N</td>\n      <td>N</td>\n    </tr>\n    <tr>\n      <td>1</td>\n      <td>25000.0</td>\n      <td>0.2000</td>\n      <td>929.09</td>\n      <td>MORTGAGE</td>\n      <td>105000.0</td>\n      <td>Verified</td>\n      <td>3</td>\n      <td>low_risk</td>\n      <td>n</td>\n      <td>20.23</td>\n      <td>...</td>\n      <td>91.2</td>\n      <td>50.0</td>\n      <td>1.0</td>\n      <td>0.0</td>\n      <td>271427.0</td>\n      <td>60641.0</td>\n      <td>41200.0</td>\n      <td>49197.0</td>\n      <td>N</td>\n      <td>N</td>\n    </tr>\n    <tr>\n      <td>2</td>\n      <td>20000.0</td>\n      <td>0.2000</td>\n      <td>529.88</td>\n      <td>MORTGAGE</td>\n      <td>56000.0</td>\n      <td>Verified</td>\n      <td>3</td>\n      <td>low_risk</td>\n      <td>n</td>\n      <td>24.26</td>\n      <td>...</td>\n      <td>66.7</td>\n      <td>50.0</td>\n      <td>0.0</td>\n      <td>0.0</td>\n      <td>60644.0</td>\n      <td>45684.0</td>\n      <td>7500.0</td>\n      <td>43144.0</td>\n      <td>N</td>\n      <td>N</td>\n    </tr>\n    <tr>\n      <td>3</td>\n      <td>10000.0</td>\n      <td>0.1640</td>\n      <td>353.55</td>\n      <td>RENT</td>\n      <td>92000.0</td>\n      <td>Verified</td>\n      <td>3</td>\n      <td>low_risk</td>\n      <td>n</td>\n      <td>31.44</td>\n      <td>...</td>\n      <td>100.0</td>\n      <td>50.0</td>\n      <td>1.0</td>\n      <td>0.0</td>\n      <td>99506.0</td>\n      <td>68784.0</td>\n      <td>19700.0</td>\n      <td>76506.0</td>\n      <td>N</td>\n      <td>N</td>\n    </tr>\n    <tr>\n      <td>4</td>\n      <td>22000.0</td>\n      <td>0.1474</td>\n      <td>520.39</td>\n      <td>MORTGAGE</td>\n      <td>52000.0</td>\n      <td>Not Verified</td>\n      <td>3</td>\n      <td>low_risk</td>\n      <td>n</td>\n      <td>18.76</td>\n      <td>...</td>\n      <td>100.0</td>\n      <td>0.0</td>\n      <td>0.0</td>\n      <td>0.0</td>\n      <td>219750.0</td>\n      <td>25919.0</td>\n      <td>27600.0</td>\n      <td>20000.0</td>\n      <td>N</td>\n      <td>N</td>\n    </tr>\n  </tbody>\n</table>\n<p>5 rows × 86 columns</p>\n</div>"
     },
     "metadata": {},
     "execution_count": 11
    }
   ],
   "source": [
    "# Encode month name\n",
    "df[\"next_pymnt_d\"] = df[\"next_pymnt_d\"].apply(lambda x: month_num[x])\n",
    "df.head()"
   ]
  },
  {
   "cell_type": "code",
   "execution_count": 12,
   "metadata": {},
   "outputs": [],
   "source": [
    "#looking at the data in the data frame out put in the other column names remaining in the object type colums\n",
    "# all the data that has more than 2 unique values must be label encoded\n",
    "# a few appear to have more than 2 options based on the dictionary output above so better to use label encoding instead of binary.\n",
    "from sklearn.preprocessing import LabelEncoder\n",
    "# Create the LabelEncoder instance\n",
    "le = LabelEncoder()\n",
    "# Fitting and encoding the columns with the LabelEncoder\n",
    "# home ownership column\n",
    "le.fit(df[\"home_ownership\"])\n",
    "df[\"home_ownership\"] = le.transform(df[\"home_ownership\"])\n",
    "# loan_status column\n",
    "le.fit(df[\"loan_status\"])\n",
    "df[\"loan_status\"] = le.transform(df[\"loan_status\"])\n",
    "# verification_status column\n",
    "le.fit(df[\"verification_status\"])\n",
    "df[\"verification_status\"] = le.transform(df[\"verification_status\"])"
   ]
  },
  {
   "cell_type": "code",
   "execution_count": 13,
   "metadata": {},
   "outputs": [
    {
     "output_type": "execute_result",
     "data": {
      "text/plain": "   loan_amnt  int_rate  installment  home_ownership  annual_inc  \\\n0    10500.0    0.1719       375.35               3     66000.0   \n1    25000.0    0.2000       929.09               1    105000.0   \n2    20000.0    0.2000       529.88               1     56000.0   \n3    10000.0    0.1640       353.55               3     92000.0   \n4    22000.0    0.1474       520.39               1     52000.0   \n\n   verification_status  issue_d  loan_status    dti  delinq_2yrs  ...  \\\n0                    1        3            1  27.24          0.0  ...   \n1                    2        3            1  20.23          0.0  ...   \n2                    2        3            1  24.26          0.0  ...   \n3                    2        3            1  31.44          0.0  ...   \n4                    0        3            1  18.76          0.0  ...   \n\n   total_bal_ex_mort  total_bc_limit  total_il_high_credit_limit  \\\n0            38199.0          2000.0                     61987.0   \n1            60641.0         41200.0                     49197.0   \n2            45684.0          7500.0                     43144.0   \n3            68784.0         19700.0                     76506.0   \n4            25919.0         27600.0                     20000.0   \n\n   pymnt_plan_n  initial_list_status_f  initial_list_status_w  \\\n0             1                      0                      1   \n1             1                      0                      1   \n2             1                      0                      1   \n3             1                      0                      1   \n4             1                      0                      1   \n\n   application_type_Individual  application_type_Joint App  hardship_flag_N  \\\n0                            1                           0                1   \n1                            1                           0                1   \n2                            1                           0                1   \n3                            1                           0                1   \n4                            1                           0                1   \n\n   debt_settlement_flag_N  \n0                       1  \n1                       1  \n2                       1  \n3                       1  \n4                       1  \n\n[5 rows x 88 columns]",
      "text/html": "<div>\n<style scoped>\n    .dataframe tbody tr th:only-of-type {\n        vertical-align: middle;\n    }\n\n    .dataframe tbody tr th {\n        vertical-align: top;\n    }\n\n    .dataframe thead th {\n        text-align: right;\n    }\n</style>\n<table border=\"1\" class=\"dataframe\">\n  <thead>\n    <tr style=\"text-align: right;\">\n      <th></th>\n      <th>loan_amnt</th>\n      <th>int_rate</th>\n      <th>installment</th>\n      <th>home_ownership</th>\n      <th>annual_inc</th>\n      <th>verification_status</th>\n      <th>issue_d</th>\n      <th>loan_status</th>\n      <th>dti</th>\n      <th>delinq_2yrs</th>\n      <th>...</th>\n      <th>total_bal_ex_mort</th>\n      <th>total_bc_limit</th>\n      <th>total_il_high_credit_limit</th>\n      <th>pymnt_plan_n</th>\n      <th>initial_list_status_f</th>\n      <th>initial_list_status_w</th>\n      <th>application_type_Individual</th>\n      <th>application_type_Joint App</th>\n      <th>hardship_flag_N</th>\n      <th>debt_settlement_flag_N</th>\n    </tr>\n  </thead>\n  <tbody>\n    <tr>\n      <td>0</td>\n      <td>10500.0</td>\n      <td>0.1719</td>\n      <td>375.35</td>\n      <td>3</td>\n      <td>66000.0</td>\n      <td>1</td>\n      <td>3</td>\n      <td>1</td>\n      <td>27.24</td>\n      <td>0.0</td>\n      <td>...</td>\n      <td>38199.0</td>\n      <td>2000.0</td>\n      <td>61987.0</td>\n      <td>1</td>\n      <td>0</td>\n      <td>1</td>\n      <td>1</td>\n      <td>0</td>\n      <td>1</td>\n      <td>1</td>\n    </tr>\n    <tr>\n      <td>1</td>\n      <td>25000.0</td>\n      <td>0.2000</td>\n      <td>929.09</td>\n      <td>1</td>\n      <td>105000.0</td>\n      <td>2</td>\n      <td>3</td>\n      <td>1</td>\n      <td>20.23</td>\n      <td>0.0</td>\n      <td>...</td>\n      <td>60641.0</td>\n      <td>41200.0</td>\n      <td>49197.0</td>\n      <td>1</td>\n      <td>0</td>\n      <td>1</td>\n      <td>1</td>\n      <td>0</td>\n      <td>1</td>\n      <td>1</td>\n    </tr>\n    <tr>\n      <td>2</td>\n      <td>20000.0</td>\n      <td>0.2000</td>\n      <td>529.88</td>\n      <td>1</td>\n      <td>56000.0</td>\n      <td>2</td>\n      <td>3</td>\n      <td>1</td>\n      <td>24.26</td>\n      <td>0.0</td>\n      <td>...</td>\n      <td>45684.0</td>\n      <td>7500.0</td>\n      <td>43144.0</td>\n      <td>1</td>\n      <td>0</td>\n      <td>1</td>\n      <td>1</td>\n      <td>0</td>\n      <td>1</td>\n      <td>1</td>\n    </tr>\n    <tr>\n      <td>3</td>\n      <td>10000.0</td>\n      <td>0.1640</td>\n      <td>353.55</td>\n      <td>3</td>\n      <td>92000.0</td>\n      <td>2</td>\n      <td>3</td>\n      <td>1</td>\n      <td>31.44</td>\n      <td>0.0</td>\n      <td>...</td>\n      <td>68784.0</td>\n      <td>19700.0</td>\n      <td>76506.0</td>\n      <td>1</td>\n      <td>0</td>\n      <td>1</td>\n      <td>1</td>\n      <td>0</td>\n      <td>1</td>\n      <td>1</td>\n    </tr>\n    <tr>\n      <td>4</td>\n      <td>22000.0</td>\n      <td>0.1474</td>\n      <td>520.39</td>\n      <td>1</td>\n      <td>52000.0</td>\n      <td>0</td>\n      <td>3</td>\n      <td>1</td>\n      <td>18.76</td>\n      <td>0.0</td>\n      <td>...</td>\n      <td>25919.0</td>\n      <td>27600.0</td>\n      <td>20000.0</td>\n      <td>1</td>\n      <td>0</td>\n      <td>1</td>\n      <td>1</td>\n      <td>0</td>\n      <td>1</td>\n      <td>1</td>\n    </tr>\n  </tbody>\n</table>\n<p>5 rows × 88 columns</p>\n</div>"
     },
     "metadata": {},
     "execution_count": 13
    }
   ],
   "source": [
    "# Binary encoding on the remaining columns in the object columns list/unique dictionary values 2 or less from above that haven't yet been converted to a int or float\n",
    "# once this is done all values will be int or float values no more objects\n",
    "df_binary_encoded = pd.get_dummies(df, columns=[\"pymnt_plan\", \"initial_list_status\", \"application_type\", \"hardship_flag\",\"debt_settlement_flag\"])\n",
    "df_binary_encoded.head()"
   ]
  },
  {
   "cell_type": "markdown",
   "metadata": {},
   "source": [
    "# Split the Data into Training and Testing"
   ]
  },
  {
   "cell_type": "code",
   "execution_count": 14,
   "metadata": {},
   "outputs": [],
   "source": [
    "# Create our features\n",
    "X = df_binary_encoded.drop(columns='loan_status')\n",
    "\n",
    "# Create our target\n",
    "y = df_binary_encoded['loan_status']"
   ]
  },
  {
   "cell_type": "code",
   "execution_count": 15,
   "metadata": {},
   "outputs": [
    {
     "output_type": "execute_result",
     "data": {
      "text/plain": "          loan_amnt      int_rate   installment  home_ownership    annual_inc  \\\ncount  68817.000000  68817.000000  68817.000000    68817.000000  6.881700e+04   \nmean   16677.594562      0.127718    480.652863        1.812779  8.821371e+04   \nstd    10277.348590      0.048130    288.062432        0.941313  1.155800e+05   \nmin     1000.000000      0.060000     30.890000        0.000000  4.000000e+01   \n25%     9000.000000      0.088100    265.730000        1.000000  5.000000e+04   \n50%    15000.000000      0.118000    404.560000        1.000000  7.300000e+04   \n75%    24000.000000      0.155700    648.100000        3.000000  1.040000e+05   \nmax    40000.000000      0.308400   1676.230000        3.000000  8.797500e+06   \n\n       verification_status       issue_d           dti   delinq_2yrs  \\\ncount         68817.000000  68817.000000  68817.000000  68817.000000   \nmean              0.669994      1.726172     21.778153      0.217766   \nstd               0.719105      0.743862     20.199244      0.718367   \nmin               0.000000      1.000000      0.000000      0.000000   \n25%               0.000000      1.000000     13.890000      0.000000   \n50%               1.000000      2.000000     19.760000      0.000000   \n75%               1.000000      2.000000     26.660000      0.000000   \nmax               2.000000      3.000000    999.000000     18.000000   \n\n       inq_last_6mths  ...  total_bal_ex_mort  total_bc_limit  \\\ncount    68817.000000  ...       6.881700e+04    68817.000000   \nmean         0.497697  ...       6.133843e+04    29734.128558   \nstd          0.758122  ...       5.738798e+04    26795.394232   \nmin          0.000000  ...       2.350000e+02      100.000000   \n25%          0.000000  ...       2.650300e+04    11600.000000   \n50%          0.000000  ...       4.535700e+04    22100.000000   \n75%          1.000000  ...       7.657000e+04    39300.000000   \nmax          5.000000  ...       1.295455e+06   509400.000000   \n\n       total_il_high_credit_limit  pymnt_plan_n  initial_list_status_f  \\\ncount                6.881700e+04       68817.0           68817.000000   \nmean                 5.572240e+04           1.0               0.123879   \nstd                  5.095845e+04           0.0               0.329446   \nmin                  1.270000e+02           1.0               0.000000   \n25%                  2.288000e+04           1.0               0.000000   \n50%                  4.200000e+04           1.0               0.000000   \n75%                  7.249900e+04           1.0               0.000000   \nmax                  1.426964e+06           1.0               1.000000   \n\n       initial_list_status_w  application_type_Individual  \\\ncount           68817.000000                 68817.000000   \nmean                0.876121                     0.860340   \nstd                 0.329446                     0.346637   \nmin                 0.000000                     0.000000   \n25%                 1.000000                     1.000000   \n50%                 1.000000                     1.000000   \n75%                 1.000000                     1.000000   \nmax                 1.000000                     1.000000   \n\n       application_type_Joint App  hardship_flag_N  debt_settlement_flag_N  \ncount                68817.000000          68817.0                 68817.0  \nmean                     0.139660              1.0                     1.0  \nstd                      0.346637              0.0                     0.0  \nmin                      0.000000              1.0                     1.0  \n25%                      0.000000              1.0                     1.0  \n50%                      0.000000              1.0                     1.0  \n75%                      0.000000              1.0                     1.0  \nmax                      1.000000              1.0                     1.0  \n\n[8 rows x 87 columns]",
      "text/html": "<div>\n<style scoped>\n    .dataframe tbody tr th:only-of-type {\n        vertical-align: middle;\n    }\n\n    .dataframe tbody tr th {\n        vertical-align: top;\n    }\n\n    .dataframe thead th {\n        text-align: right;\n    }\n</style>\n<table border=\"1\" class=\"dataframe\">\n  <thead>\n    <tr style=\"text-align: right;\">\n      <th></th>\n      <th>loan_amnt</th>\n      <th>int_rate</th>\n      <th>installment</th>\n      <th>home_ownership</th>\n      <th>annual_inc</th>\n      <th>verification_status</th>\n      <th>issue_d</th>\n      <th>dti</th>\n      <th>delinq_2yrs</th>\n      <th>inq_last_6mths</th>\n      <th>...</th>\n      <th>total_bal_ex_mort</th>\n      <th>total_bc_limit</th>\n      <th>total_il_high_credit_limit</th>\n      <th>pymnt_plan_n</th>\n      <th>initial_list_status_f</th>\n      <th>initial_list_status_w</th>\n      <th>application_type_Individual</th>\n      <th>application_type_Joint App</th>\n      <th>hardship_flag_N</th>\n      <th>debt_settlement_flag_N</th>\n    </tr>\n  </thead>\n  <tbody>\n    <tr>\n      <td>count</td>\n      <td>68817.000000</td>\n      <td>68817.000000</td>\n      <td>68817.000000</td>\n      <td>68817.000000</td>\n      <td>6.881700e+04</td>\n      <td>68817.000000</td>\n      <td>68817.000000</td>\n      <td>68817.000000</td>\n      <td>68817.000000</td>\n      <td>68817.000000</td>\n      <td>...</td>\n      <td>6.881700e+04</td>\n      <td>68817.000000</td>\n      <td>6.881700e+04</td>\n      <td>68817.0</td>\n      <td>68817.000000</td>\n      <td>68817.000000</td>\n      <td>68817.000000</td>\n      <td>68817.000000</td>\n      <td>68817.0</td>\n      <td>68817.0</td>\n    </tr>\n    <tr>\n      <td>mean</td>\n      <td>16677.594562</td>\n      <td>0.127718</td>\n      <td>480.652863</td>\n      <td>1.812779</td>\n      <td>8.821371e+04</td>\n      <td>0.669994</td>\n      <td>1.726172</td>\n      <td>21.778153</td>\n      <td>0.217766</td>\n      <td>0.497697</td>\n      <td>...</td>\n      <td>6.133843e+04</td>\n      <td>29734.128558</td>\n      <td>5.572240e+04</td>\n      <td>1.0</td>\n      <td>0.123879</td>\n      <td>0.876121</td>\n      <td>0.860340</td>\n      <td>0.139660</td>\n      <td>1.0</td>\n      <td>1.0</td>\n    </tr>\n    <tr>\n      <td>std</td>\n      <td>10277.348590</td>\n      <td>0.048130</td>\n      <td>288.062432</td>\n      <td>0.941313</td>\n      <td>1.155800e+05</td>\n      <td>0.719105</td>\n      <td>0.743862</td>\n      <td>20.199244</td>\n      <td>0.718367</td>\n      <td>0.758122</td>\n      <td>...</td>\n      <td>5.738798e+04</td>\n      <td>26795.394232</td>\n      <td>5.095845e+04</td>\n      <td>0.0</td>\n      <td>0.329446</td>\n      <td>0.329446</td>\n      <td>0.346637</td>\n      <td>0.346637</td>\n      <td>0.0</td>\n      <td>0.0</td>\n    </tr>\n    <tr>\n      <td>min</td>\n      <td>1000.000000</td>\n      <td>0.060000</td>\n      <td>30.890000</td>\n      <td>0.000000</td>\n      <td>4.000000e+01</td>\n      <td>0.000000</td>\n      <td>1.000000</td>\n      <td>0.000000</td>\n      <td>0.000000</td>\n      <td>0.000000</td>\n      <td>...</td>\n      <td>2.350000e+02</td>\n      <td>100.000000</td>\n      <td>1.270000e+02</td>\n      <td>1.0</td>\n      <td>0.000000</td>\n      <td>0.000000</td>\n      <td>0.000000</td>\n      <td>0.000000</td>\n      <td>1.0</td>\n      <td>1.0</td>\n    </tr>\n    <tr>\n      <td>25%</td>\n      <td>9000.000000</td>\n      <td>0.088100</td>\n      <td>265.730000</td>\n      <td>1.000000</td>\n      <td>5.000000e+04</td>\n      <td>0.000000</td>\n      <td>1.000000</td>\n      <td>13.890000</td>\n      <td>0.000000</td>\n      <td>0.000000</td>\n      <td>...</td>\n      <td>2.650300e+04</td>\n      <td>11600.000000</td>\n      <td>2.288000e+04</td>\n      <td>1.0</td>\n      <td>0.000000</td>\n      <td>1.000000</td>\n      <td>1.000000</td>\n      <td>0.000000</td>\n      <td>1.0</td>\n      <td>1.0</td>\n    </tr>\n    <tr>\n      <td>50%</td>\n      <td>15000.000000</td>\n      <td>0.118000</td>\n      <td>404.560000</td>\n      <td>1.000000</td>\n      <td>7.300000e+04</td>\n      <td>1.000000</td>\n      <td>2.000000</td>\n      <td>19.760000</td>\n      <td>0.000000</td>\n      <td>0.000000</td>\n      <td>...</td>\n      <td>4.535700e+04</td>\n      <td>22100.000000</td>\n      <td>4.200000e+04</td>\n      <td>1.0</td>\n      <td>0.000000</td>\n      <td>1.000000</td>\n      <td>1.000000</td>\n      <td>0.000000</td>\n      <td>1.0</td>\n      <td>1.0</td>\n    </tr>\n    <tr>\n      <td>75%</td>\n      <td>24000.000000</td>\n      <td>0.155700</td>\n      <td>648.100000</td>\n      <td>3.000000</td>\n      <td>1.040000e+05</td>\n      <td>1.000000</td>\n      <td>2.000000</td>\n      <td>26.660000</td>\n      <td>0.000000</td>\n      <td>1.000000</td>\n      <td>...</td>\n      <td>7.657000e+04</td>\n      <td>39300.000000</td>\n      <td>7.249900e+04</td>\n      <td>1.0</td>\n      <td>0.000000</td>\n      <td>1.000000</td>\n      <td>1.000000</td>\n      <td>0.000000</td>\n      <td>1.0</td>\n      <td>1.0</td>\n    </tr>\n    <tr>\n      <td>max</td>\n      <td>40000.000000</td>\n      <td>0.308400</td>\n      <td>1676.230000</td>\n      <td>3.000000</td>\n      <td>8.797500e+06</td>\n      <td>2.000000</td>\n      <td>3.000000</td>\n      <td>999.000000</td>\n      <td>18.000000</td>\n      <td>5.000000</td>\n      <td>...</td>\n      <td>1.295455e+06</td>\n      <td>509400.000000</td>\n      <td>1.426964e+06</td>\n      <td>1.0</td>\n      <td>1.000000</td>\n      <td>1.000000</td>\n      <td>1.000000</td>\n      <td>1.000000</td>\n      <td>1.0</td>\n      <td>1.0</td>\n    </tr>\n  </tbody>\n</table>\n<p>8 rows × 87 columns</p>\n</div>"
     },
     "metadata": {},
     "execution_count": 15
    }
   ],
   "source": [
    "X.describe()"
   ]
  },
  {
   "cell_type": "code",
   "execution_count": 16,
   "metadata": {},
   "outputs": [
    {
     "output_type": "execute_result",
     "data": {
      "text/plain": "1    68470\n0      347\nName: loan_status, dtype: int64"
     },
     "metadata": {},
     "execution_count": 16
    }
   ],
   "source": [
    "# Check the balance of our target values\n",
    "y.value_counts()"
   ]
  },
  {
   "cell_type": "code",
   "execution_count": 17,
   "metadata": {},
   "outputs": [
    {
     "output_type": "execute_result",
     "data": {
      "text/plain": "(51612, 87)"
     },
     "metadata": {},
     "execution_count": 17
    }
   ],
   "source": [
    "# Split the X and y into X_train, X_test, y_train, y_test\n",
    "from sklearn.model_selection import train_test_split\n",
    "\n",
    "X_train, X_test, y_train, y_test= train_test_split(X, \n",
    "                                                   y, \n",
    "                                                   random_state=1, \n",
    "                                                   stratify=y)\n",
    "X_train.shape"
   ]
  },
  {
   "cell_type": "markdown",
   "metadata": {},
   "source": [
    "# Ensemble Learners\n",
    "\n",
    "In this section, you will compare two ensemble algorithms to determine which algorithm results in the best performance. You will train a Balanced Random Forest Classifier and an Easy Ensemble AdaBoost classifier . For each algorithm, be sure to complete the folliowing steps:\n",
    "\n",
    "1. Train the model using the training data. \n",
    "2. Calculate the balanced accuracy score from sklearn.metrics.\n",
    "3. Print the confusion matrix from sklearn.metrics.\n",
    "4. Generate a classication report using the `imbalanced_classification_report` from imbalanced-learn.\n",
    "5. For the Balanced Random Forest Classifier onely, print the feature importance sorted in descending order (most important feature to least important) along with the feature score\n",
    "\n",
    "Note: Use a random state of 1 for each algorithm to ensure consistency between tests"
   ]
  },
  {
   "cell_type": "markdown",
   "metadata": {},
   "source": [
    "### Balanced Random Forest Classifier"
   ]
  },
  {
   "cell_type": "code",
   "execution_count": 18,
   "metadata": {},
   "outputs": [
    {
     "output_type": "execute_result",
     "data": {
      "text/plain": "Counter({1: 51352, 0: 51352})"
     },
     "metadata": {},
     "execution_count": 18
    }
   ],
   "source": [
    "# Resample the training data with the RandomOversampler\n",
    "from imblearn.over_sampling import RandomOverSampler\n",
    "\n",
    "ros = RandomOverSampler(random_state=1)\n",
    "X_resampled, y_resampled = ros.fit_resample(X_train, y_train)\n",
    "Counter(y_resampled)"
   ]
  },
  {
   "cell_type": "code",
   "execution_count": 19,
   "metadata": {},
   "outputs": [],
   "source": [
    "from sklearn.ensemble import RandomForestClassifier\n",
    "# Create a random forest classifier\n",
    "rf_model = RandomForestClassifier(n_estimators=100, random_state=1)"
   ]
  },
  {
   "cell_type": "code",
   "execution_count": 20,
   "metadata": {},
   "outputs": [],
   "source": [
    "# Fitting the model\n",
    "rf_model = rf_model.fit(X_resampled, y_resampled)"
   ]
  },
  {
   "cell_type": "code",
   "execution_count": 21,
   "metadata": {},
   "outputs": [
    {
     "output_type": "execute_result",
     "data": {
      "text/plain": "0.6605982410126868"
     },
     "metadata": {},
     "execution_count": 21
    }
   ],
   "source": [
    "# Calculated the balanced accuracy score\n",
    "from sklearn.metrics import balanced_accuracy_score\n",
    "y_pred = rf_model.predict(X_test)\n",
    "balanced_accuracy_score(y_test, y_pred)"
   ]
  },
  {
   "cell_type": "code",
   "execution_count": 22,
   "metadata": {},
   "outputs": [
    {
     "output_type": "execute_result",
     "data": {
      "text/plain": "array([[   28,    59],\n       [   11, 17107]])"
     },
     "metadata": {},
     "execution_count": 22
    }
   ],
   "source": [
    "# Display the confusion matrix\n",
    "from sklearn.metrics import confusion_matrix\n",
    "confusion_matrix(y_test, y_pred)"
   ]
  },
  {
   "cell_type": "code",
   "execution_count": 23,
   "metadata": {},
   "outputs": [
    {
     "output_type": "stream",
     "name": "stdout",
     "text": "pre       rec       spe        f1       geo       iba       sup\n\n          0       0.72      0.32      1.00      0.44      0.57      0.30        87\n          1       1.00      1.00      0.32      1.00      0.57      0.34     17118\n\navg / total       1.00      1.00      0.33      1.00      0.57      0.34     17205\n\n"
    }
   ],
   "source": [
    "# Print the imbalanced classification report\n",
    "from imblearn.metrics import classification_report_imbalanced\n",
    "\n",
    "print(classification_report_imbalanced(y_test, y_pred))"
   ]
  },
  {
   "cell_type": "code",
   "execution_count": 24,
   "metadata": {},
   "outputs": [],
   "source": [
    "# List the features sorted in descending order by feature importance\n",
    "# Random Forests in sklearn feature importance\n",
    "importances = rf_model.feature_importances_"
   ]
  },
  {
   "cell_type": "code",
   "execution_count": 25,
   "metadata": {},
   "outputs": [
    {
     "output_type": "execute_result",
     "data": {
      "text/plain": "[(0.09511516189694809, 'total_rec_prncp'),\n (0.07648620716014995, 'total_rec_int'),\n (0.0635824126023575, 'last_pymnt_amnt'),\n (0.05837711676923794, 'total_pymnt'),\n (0.05548643389953452, 'issue_d'),\n (0.05479020749312779, 'total_pymnt_inv'),\n (0.02734869886184637, 'int_rate'),\n (0.019129313851143828, 'installment'),\n (0.018352687635554324, 'out_prncp_inv'),\n (0.01776559475254157, 'dti'),\n (0.01758559029523361, 'annual_inc'),\n (0.017511611792473836, 'out_prncp'),\n (0.016726849264744385, 'avg_cur_bal'),\n (0.014918974705195362, 'mo_sin_old_il_acct'),\n (0.014764677451760326, 'bc_open_to_buy'),\n (0.013826974899763134, 'il_util'),\n (0.013765139501049567, 'max_bal_bc'),\n (0.01346591146045051, 'bc_util'),\n (0.013314473658028805, 'mths_since_recent_inq'),\n (0.013252746449134543, 'tot_cur_bal'),\n (0.013177940378569732, 'revol_bal'),\n (0.013162157775538192, 'mo_sin_old_rev_tl_op'),\n (0.013090851802594108, 'total_rec_late_fee'),\n (0.013065867100262212, 'loan_amnt'),\n (0.012091565167460303, 'total_bc_limit'),\n (0.012084026602449748, 'tot_hi_cred_lim'),\n (0.011600182031532515, 'mths_since_recent_bc'),\n (0.011389270187006839, 'total_rev_hi_lim'),\n (0.011265939974128003, 'total_bal_ex_mort'),\n (0.010775297548411295, 'mths_since_rcnt_il'),\n (0.010721422473645891, 'all_util'),\n (0.01056737990489379, 'next_pymnt_d'),\n (0.010406976427116141, 'total_bal_il'),\n (0.010370810827437698, 'total_il_high_credit_limit'),\n (0.009152785374087284, 'mo_sin_rcnt_rev_tl_op'),\n (0.009121765437516046, 'total_acc'),\n (0.008238649115686746, 'pct_tl_nvr_dlq'),\n (0.007949254642218075, 'open_acc'),\n (0.007947126844880728, 'num_rev_tl_bal_gt_0'),\n (0.007947067782232371, 'num_rev_accts'),\n (0.007765624883903464, 'num_actv_bc_tl'),\n (0.007496707177273033, 'total_cu_tl'),\n (0.007477064975305136, 'mo_sin_rcnt_tl'),\n (0.007469181701384952, 'num_il_tl'),\n (0.007034818675733246, 'num_sats'),\n (0.0068613590818072225, 'num_op_rev_tl'),\n (0.006830293643973428, 'num_bc_tl'),\n (0.006404503680341279, 'inq_fi'),\n (0.006356103609916921, 'num_actv_rev_tl'),\n (0.006352199002657599, 'inq_last_12m'),\n (0.006325752713021199, 'percent_bc_gt_75'),\n (0.005784387211121112, 'num_bc_sats'),\n (0.0054297889280530785, 'open_act_il'),\n (0.005231427786145904, 'mort_acc'),\n (0.005126666852797847, 'open_il_24m'),\n (0.00507057769407674, 'acc_open_past_24mths'),\n (0.004881331543563765, 'num_tl_op_past_12m'),\n (0.004639875469430668, 'open_rv_24m'),\n (0.003952748618779805, 'open_acc_6m'),\n (0.0038752097983350774, 'open_rv_12m'),\n (0.0036357913042382862, 'delinq_2yrs'),\n (0.0036000597531277633, 'inq_last_6mths'),\n (0.0033594680899982606, 'verification_status'),\n (0.003220495855841766, 'home_ownership'),\n (0.003189116145898638, 'tot_coll_amt'),\n (0.003073824025710847, 'open_il_12m'),\n (0.0027866248789381078, 'num_accts_ever_120_pd'),\n (0.001389084347104762, 'pub_rec_bankruptcies'),\n (0.0013201237822776872, 'pub_rec'),\n (0.0010618620169643982, 'initial_list_status_w'),\n (0.0010152522517412979, 'application_type_Individual'),\n (0.0009535954775827403, 'initial_list_status_f'),\n (0.0008069634434874913, 'application_type_Joint App'),\n (0.00025233232019959467, 'collections_12_mths_ex_med'),\n (0.0002449161214400713, 'num_tl_90g_dpd_24m'),\n (3.174533988322421e-05, 'chargeoff_within_12_mths'),\n (0.0, 'tax_liens'),\n (0.0, 'recoveries'),\n (0.0, 'pymnt_plan_n'),\n (0.0, 'policy_code'),\n (0.0, 'num_tl_30dpd'),\n (0.0, 'num_tl_120dpd_2m'),\n (0.0, 'hardship_flag_N'),\n (0.0, 'delinq_amnt'),\n (0.0, 'debt_settlement_flag_N'),\n (0.0, 'collection_recovery_fee'),\n (0.0, 'acc_now_delinq')]"
     },
     "metadata": {},
     "execution_count": 25
    }
   ],
   "source": [
    "# Sort the features by their importance\n",
    "sorted(zip(rf_model.feature_importances_, X.columns), reverse=True)"
   ]
  },
  {
   "cell_type": "markdown",
   "metadata": {},
   "source": [
    "### Easy Ensemble AdaBoost Classifier"
   ]
  },
  {
   "cell_type": "code",
   "execution_count": 26,
   "metadata": {},
   "outputs": [],
   "source": [
    "# Train the Classifier\n",
    "from sklearn.ensemble import AdaBoostClassifier\n",
    "\n",
    "abc_model = AdaBoostClassifier(n_estimators=100, random_state=1)\n",
    "# Fitting the model\n",
    "abc_model = abc_model.fit(X_resampled, y_resampled)"
   ]
  },
  {
   "cell_type": "code",
   "execution_count": 27,
   "metadata": {},
   "outputs": [
    {
     "output_type": "execute_result",
     "data": {
      "text/plain": "0.9097552082703828"
     },
     "metadata": {},
     "execution_count": 27
    }
   ],
   "source": [
    "# Calculated the balanced accuracy score\n",
    "from sklearn.metrics import balanced_accuracy_score\n",
    "y_pred = abc_model.predict(X_test)\n",
    "balanced_accuracy_score(y_test, y_pred)"
   ]
  },
  {
   "cell_type": "code",
   "execution_count": 28,
   "metadata": {},
   "outputs": [
    {
     "output_type": "execute_result",
     "data": {
      "text/plain": "array([[   73,    14],\n       [  335, 16783]])"
     },
     "metadata": {},
     "execution_count": 28
    }
   ],
   "source": [
    "# Display the confusion matrix\n",
    "from sklearn.metrics import confusion_matrix\n",
    "confusion_matrix(y_test, y_pred)"
   ]
  },
  {
   "cell_type": "code",
   "execution_count": 29,
   "metadata": {},
   "outputs": [
    {
     "output_type": "stream",
     "name": "stdout",
     "text": "pre       rec       spe        f1       geo       iba       sup\n\n          0       0.18      0.84      0.98      0.29      0.91      0.81        87\n          1       1.00      0.98      0.84      0.99      0.91      0.83     17118\n\navg / total       1.00      0.98      0.84      0.99      0.91      0.83     17205\n\n"
    }
   ],
   "source": [
    "# Print the imbalanced classification report\n",
    "from imblearn.metrics import classification_report_imbalanced\n",
    "\n",
    "print(classification_report_imbalanced(y_test, y_pred))"
   ]
  },
  {
   "cell_type": "code",
   "execution_count": null,
   "metadata": {},
   "outputs": [],
   "source": []
  }
 ],
 "metadata": {
  "kernelspec": {
   "display_name": "Python 3.7.4 64-bit ('dev': conda)",
   "language": "python",
   "name": "python37464bitdevconda4b7dd107e46f4aa188ce759bf66d1533"
  },
  "language_info": {
   "codemirror_mode": {
    "name": "ipython",
    "version": 3
   },
   "file_extension": ".py",
   "mimetype": "text/x-python",
   "name": "python",
   "nbconvert_exporter": "python",
   "pygments_lexer": "ipython3",
   "version": "3.7.4-final"
  }
 },
 "nbformat": 4,
 "nbformat_minor": 2
}